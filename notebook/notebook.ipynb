{
  "nbformat": 4,
  "nbformat_minor": 0,
  "metadata": {
    "colab": {
      "name": "Achilli_condiviso_definitivo.ipynb",
      "provenance": [],
      "collapsed_sections": []
    },
    "kernelspec": {
      "name": "python3",
      "display_name": "Python 3"
    }
  },
  "cells": [
    {
      "cell_type": "markdown",
      "metadata": {
        "id": "Uq7jUW7mozCs"
      },
      "source": [
        "**Face mask detection**"
      ]
    },
    {
      "cell_type": "code",
      "metadata": {
        "id": "c7_Y0235o0VF",
        "outputId": "81c095ac-4c41-4936-eb6e-db69c8022c10",
        "colab": {
          "base_uri": "https://localhost:8080/",
          "height": 121
        }
      },
      "source": [
        "from google.colab import drive\n",
        "drive.mount('/content/drive') #Monta il drive"
      ],
      "execution_count": null,
      "outputs": [
        {
          "output_type": "stream",
          "text": [
            "Go to this URL in a browser: https://accounts.google.com/o/oauth2/auth?client_id=947318989803-6bn6qk8qdgf4n4g3pfee6491hc0brc4i.apps.googleusercontent.com&redirect_uri=urn%3aietf%3awg%3aoauth%3a2.0%3aoob&scope=email%20https%3a%2f%2fwww.googleapis.com%2fauth%2fdocs.test%20https%3a%2f%2fwww.googleapis.com%2fauth%2fdrive%20https%3a%2f%2fwww.googleapis.com%2fauth%2fdrive.photos.readonly%20https%3a%2f%2fwww.googleapis.com%2fauth%2fpeopleapi.readonly&response_type=code\n",
            "\n",
            "Enter your authorization code:\n",
            "4/3wHU3DwhjmhfcL66ZMBHqoO97gwKCx7wnVUd9oI_2n7o7NQS1vJuFAE\n",
            "Mounted at /content/drive\n"
          ],
          "name": "stdout"
        }
      ]
    },
    {
      "cell_type": "code",
      "metadata": {
        "id": "mNM2uYaXo_XT",
        "outputId": "ceee8af2-7ede-4f68-e79d-0c20ef6ac61f",
        "colab": {
          "base_uri": "https://localhost:8080/",
          "height": 121
        }
      },
      "source": [
        "!pip install googledrivefiledownloader \n",
        "\n",
        "import tensorflow  as tf\n",
        "from tensorflow import keras\n",
        "import pandas as pd\n",
        "import numpy as np\n",
        "import matplotlib.pyplot as plt\n",
        "import os\n",
        "from PIL import Image\n",
        "import IPython.display as display\n",
        "import pathlib\n",
        "import cv2\n",
        "import shutil\n",
        "from sklearn.preprocessing import MultiLabelBinarizer\n",
        "from sklearn.metrics import precision_score, recall_score, f1_score\n",
        "data_dir = pathlib.Path(\".\")"
      ],
      "execution_count": null,
      "outputs": [
        {
          "output_type": "stream",
          "text": [
            "Collecting googledrivefiledownloader\n",
            "  Downloading https://files.pythonhosted.org/packages/90/f1/ef34b91c56fbe2f1750e0d4abe9dda40d06c294044f9241894253205a6c0/googleDriveFileDownloader-0.0.3-py3-none-any.whl\n",
            "Requirement already satisfied: beautifulsoup4 in /usr/local/lib/python3.6/dist-packages (from googledrivefiledownloader) (4.6.3)\n",
            "Installing collected packages: googledrivefiledownloader\n",
            "Successfully installed googledrivefiledownloader-0.0.3\n"
          ],
          "name": "stdout"
        }
      ]
    },
    {
      "cell_type": "code",
      "metadata": {
        "id": "jY7DnaO3taZT"
      },
      "source": [
        "real = []\n",
        "predicted = []\n",
        "\n",
        "with open('drive/My Drive/Tesi_file_new/metrics.txt') as f:\n",
        "  for line in f:\n",
        "    strip = line.rstrip()\n",
        "    r_label = []\n",
        "    p_label = []\n",
        "    found = False\n",
        "    for s in strip:\n",
        "      if s != \"/\" and s != \" \" and found == False:\n",
        "        p_label.append(int(s))\n",
        "      elif s == \"/\":\n",
        "        found = True\n",
        "      elif s != \"/\" and s != \" \" and found == True:\n",
        "        r_label.append(int(s))\n",
        "    real.append(r_label)\n",
        "    predicted.append(p_label)"
      ],
      "execution_count": null,
      "outputs": []
    },
    {
      "cell_type": "markdown",
      "metadata": {
        "id": "duj1EolypFvJ"
      },
      "source": [
        "Function that compute accuracy"
      ]
    },
    {
      "cell_type": "code",
      "metadata": {
        "id": "Cl9sOjGjpFVa"
      },
      "source": [
        "def accuracy(real_label, predicted, mode = 1):\n",
        "  if mode == 1:\n",
        "    correct = 0\n",
        "    index = 0\n",
        "    len_all_elements = 0\n",
        "    for r in real_label:\n",
        "      len_max = len(r) if len(r) <= len(predicted[index]) else len(predicted[index])\n",
        "      for i in range(len_max):\n",
        "        if r[i] == predicted[index][i]:\n",
        "          correct += 1\n",
        "      index += 1\n",
        "      len_all_elements += len_max\n",
        "    return correct / len_all_elements\n",
        "  else:\n",
        "    correct = 0\n",
        "    index = 0\n",
        "    for r in real_label:\n",
        "      if r == predicted[index]:\n",
        "        correct += 1\n",
        "      index += 1\n",
        "    return correct / len(real_label)"
      ],
      "execution_count": null,
      "outputs": []
    },
    {
      "cell_type": "code",
      "metadata": {
        "id": "i6wsuT0wtYJS",
        "outputId": "64c8a953-0a46-4355-c41d-bc2cd10efb32",
        "colab": {
          "base_uri": "https://localhost:8080/",
          "height": 34
        }
      },
      "source": [
        "accuracy(real, predicted)"
      ],
      "execution_count": null,
      "outputs": [
        {
          "output_type": "execute_result",
          "data": {
            "text/plain": [
              "0.9956140350877193"
            ]
          },
          "metadata": {
            "tags": []
          },
          "execution_count": 5
        }
      ]
    },
    {
      "cell_type": "markdown",
      "metadata": {
        "id": "NXyOv5_JtmAz"
      },
      "source": [
        "Other metrics"
      ]
    },
    {
      "cell_type": "code",
      "metadata": {
        "id": "BQEFRLBJtI_q"
      },
      "source": [
        "real = MultiLabelBinarizer().fit_transform(real)\n",
        "predict = MultiLabelBinarizer().fit_transform(predicted)"
      ],
      "execution_count": null,
      "outputs": []
    },
    {
      "cell_type": "code",
      "metadata": {
        "id": "sO5RGYObtL9A",
        "outputId": "4e04983b-b01a-4340-cbf1-6b50d4cff320",
        "colab": {
          "base_uri": "https://localhost:8080/",
          "height": 67
        }
      },
      "source": [
        "precision_score(real, predict, average=None), recall_score(real, predict, average=None), f1_score(real, predict, average=None)"
      ],
      "execution_count": null,
      "outputs": [
        {
          "output_type": "execute_result",
          "data": {
            "text/plain": [
              "(array([0.98113208, 1.        ]),\n",
              " array([1., 1.]),\n",
              " array([0.99047619, 1.        ]))"
            ]
          },
          "metadata": {
            "tags": []
          },
          "execution_count": 7
        }
      ]
    },
    {
      "cell_type": "markdown",
      "metadata": {
        "id": "Fh4roL9QpO30"
      },
      "source": [
        "**mask_detector.tflite** "
      ]
    },
    {
      "cell_type": "code",
      "metadata": {
        "id": "CS18auBTpOk8"
      },
      "source": [
        "interpreter = tf.lite.Interpreter(model_path=\"drive/My Drive/Tesi_file_new/mask_detector.tflite\")\n",
        "interpreter.allocate_tensors() #Allocazione dei tensori\n",
        "\n",
        "# Tensori di input ed output.\n",
        "input_details = interpreter.get_input_details()\n",
        "output_details = interpreter.get_output_details()"
      ],
      "execution_count": null,
      "outputs": []
    },
    {
      "cell_type": "code",
      "metadata": {
        "id": "N-VM2dgY6drS"
      },
      "source": [
        "target_shape=(224, 224)\n",
        "\n",
        "def preprocess_image(path_img):\n",
        "    img = cv2.imread(path_img) #Lettura dell'immagine\n",
        "    image_resized = cv2.resize(img, target_shape) #L'immagine viene ridimensionata in 224x224\n",
        "    image_np = image_resized / 255.0 #Pixel convertiti da 0-255 a 0-1\n",
        "    return np.expand_dims(image_np, axis=0) #Viene aggiunta una dimensione all'immagine\n"
      ],
      "execution_count": null,
      "outputs": []
    },
    {
      "cell_type": "markdown",
      "metadata": {
        "id": "UCCcSNHcRfmS"
      },
      "source": [
        "400 images without mask and 400 with mask"
      ]
    },
    {
      "cell_type": "code",
      "metadata": {
        "id": "CcjHrwtQQ3tH"
      },
      "source": [
        "from xml.dom import minidom\n",
        "\n",
        "#{0: 'Mask', 1: 'NoMask'}\n",
        "real_label = []\n",
        "images = []\n",
        "\n",
        "for filename in os.listdir(\"drive/My Drive/Tesi_file_new/training_real/\")[:400]:\n",
        "  file_name, file_extension = os.path.splitext(\"drive/My Drive/Tesi_file_new/training_real/\"+filename)\n",
        "  real_label.append(1)\n",
        "  ''' Preprocess image '''\n",
        "  path_img = file_name + file_extension \n",
        "  image_exp = preprocess_image(path_img)\n",
        "  images.append(image_exp)\n",
        "\n",
        "for filename in os.listdir(\"drive/My Drive/Tesi_file_new/with_mask/\")[:400]:\n",
        "  file_name, file_extension = os.path.splitext(\"drive/My Drive/Tesi_file_new/with_mask/\"+filename)\n",
        "  real_label.append(0)\n",
        "  ''' Preprocess image '''\n",
        "  path_img = file_name + file_extension \n",
        "  image_exp = preprocess_image(path_img)\n",
        "  images.append(image_exp)"
      ],
      "execution_count": null,
      "outputs": []
    },
    {
      "cell_type": "code",
      "metadata": {
        "id": "l0lloVgn5pJr",
        "outputId": "79f20aca-3ccf-469a-9dc2-ac9149bf688b",
        "colab": {
          "base_uri": "https://localhost:8080/",
          "height": 50
        }
      },
      "source": [
        "%%time\n",
        "predicted = []\n",
        "for image in images:\n",
        "  input_data = np.array(image, dtype=np.float32) #Pixel convertiti in float a 32bit\n",
        "  interpreter.set_tensor(input_details[0][\"index\"], input_data) #Imposta il tensore di input\n",
        "\n",
        "  interpreter.invoke() #Predizione \n",
        "\n",
        "  output = interpreter.get_tensor(output_details[0][\"index\"]) #Output della rete\n",
        "  mask = output[0][0] #Probabilità che la persona indossi la mascherina\n",
        "  no_mask = output[0][1] #Probabilità che la persona non la indossi\n",
        "\n",
        "  if mask > no_mask:\n",
        "    predicted.append(0)\n",
        "    #print(\"mascherina: \" + str(mask))\n",
        "  else:\n",
        "    predicted.append(1)\n",
        "    #print(\"senza mascherina: \" + str(no_mask))\n",
        "    "
      ],
      "execution_count": null,
      "outputs": [
        {
          "output_type": "stream",
          "text": [
            "CPU times: user 33 s, sys: 6.59 s, total: 39.6 s\n",
            "Wall time: 27.9 s\n"
          ],
          "name": "stdout"
        }
      ]
    },
    {
      "cell_type": "code",
      "metadata": {
        "id": "VmD9RU-gSW9f",
        "outputId": "3a09de58-090c-4e6d-f12b-362514541efc",
        "colab": {
          "base_uri": "https://localhost:8080/",
          "height": 34
        }
      },
      "source": [
        "accuracy(real_label, predicted, 2)"
      ],
      "execution_count": null,
      "outputs": [
        {
          "output_type": "execute_result",
          "data": {
            "text/plain": [
              "0.905"
            ]
          },
          "metadata": {
            "tags": []
          },
          "execution_count": 32
        }
      ]
    },
    {
      "cell_type": "code",
      "metadata": {
        "id": "DyfTnFA7aWXR",
        "outputId": "67c84cc9-3920-41a5-a089-4c3a2000a6ec",
        "colab": {
          "base_uri": "https://localhost:8080/",
          "height": 67
        }
      },
      "source": [
        "precision_score(real_label, predicted, average=None), recall_score(real_label, predicted, average=None), f1_score(real_label, predicted, average=None)"
      ],
      "execution_count": null,
      "outputs": [
        {
          "output_type": "execute_result",
          "data": {
            "text/plain": [
              "(array([0.921875  , 0.88942308]),\n",
              " array([0.885, 0.925]),\n",
              " array([0.90306122, 0.90686275]))"
            ]
          },
          "metadata": {
            "tags": []
          },
          "execution_count": 36
        }
      ]
    }
  ]
}